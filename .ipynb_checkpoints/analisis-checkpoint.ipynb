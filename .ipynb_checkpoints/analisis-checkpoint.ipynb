{
 "cells": [
  {
   "cell_type": "markdown",
   "metadata": {},
   "source": [
    "# Imports"
   ]
  },
  {
   "cell_type": "code",
   "execution_count": 1,
   "metadata": {},
   "outputs": [],
   "source": [
    "import pandas as pd\n",
    "import seaborn as sns\n",
    "import matplotlib.pyplot as plt\n",
    "import datetime"
   ]
  },
  {
   "cell_type": "markdown",
   "metadata": {},
   "source": [
    "# Limpieza de datos"
   ]
  },
  {
   "cell_type": "code",
   "execution_count": 2,
   "metadata": {},
   "outputs": [],
   "source": [
    "df1 = pd.read_csv('resultados-del-test-febrero-octubre-2018.csv', sep=';')"
   ]
  },
  {
   "cell_type": "code",
   "execution_count": 3,
   "metadata": {},
   "outputs": [
    {
     "data": {
      "text/html": [
       "<div>\n",
       "<style scoped>\n",
       "    .dataframe tbody tr th:only-of-type {\n",
       "        vertical-align: middle;\n",
       "    }\n",
       "\n",
       "    .dataframe tbody tr th {\n",
       "        vertical-align: top;\n",
       "    }\n",
       "\n",
       "    .dataframe thead th {\n",
       "        text-align: right;\n",
       "    }\n",
       "</style>\n",
       "<table border=\"1\" class=\"dataframe\">\n",
       "  <thead>\n",
       "    <tr style=\"text-align: right;\">\n",
       "      <th></th>\n",
       "      <th>fecha</th>\n",
       "      <th>hora</th>\n",
       "      <th>edad</th>\n",
       "      <th>genero</th>\n",
       "      <th>barrio</th>\n",
       "      <th>pregunta_1</th>\n",
       "      <th>pregunta_2</th>\n",
       "      <th>pregunta_3</th>\n",
       "      <th>pregunta_4</th>\n",
       "      <th>pregunta_5</th>\n",
       "      <th>pregunta_6</th>\n",
       "      <th>pregunta_7</th>\n",
       "      <th>pregunta_8</th>\n",
       "      <th>pregunta_9</th>\n",
       "      <th>pregunta_10</th>\n",
       "      <th>pregunta_11</th>\n",
       "      <th>pregunta_12</th>\n",
       "      <th>pregunta_13</th>\n",
       "    </tr>\n",
       "  </thead>\n",
       "  <tbody>\n",
       "    <tr>\n",
       "      <th>0</th>\n",
       "      <td>2019-06-14</td>\n",
       "      <td>09:09:00</td>\n",
       "      <td>27</td>\n",
       "      <td>Mujer</td>\n",
       "      <td>Constitución</td>\n",
       "      <td>A</td>\n",
       "      <td>A</td>\n",
       "      <td>A</td>\n",
       "      <td>B</td>\n",
       "      <td>A</td>\n",
       "      <td>B</td>\n",
       "      <td>C</td>\n",
       "      <td>C</td>\n",
       "      <td>B</td>\n",
       "      <td>C</td>\n",
       "      <td>B</td>\n",
       "      <td>C</td>\n",
       "      <td>C</td>\n",
       "    </tr>\n",
       "    <tr>\n",
       "      <th>1</th>\n",
       "      <td>2019-06-13</td>\n",
       "      <td>23:20:00</td>\n",
       "      <td>17</td>\n",
       "      <td>Mujer</td>\n",
       "      <td>Otro</td>\n",
       "      <td>A</td>\n",
       "      <td>B</td>\n",
       "      <td>B</td>\n",
       "      <td>B</td>\n",
       "      <td>B</td>\n",
       "      <td>C</td>\n",
       "      <td>C</td>\n",
       "      <td>B</td>\n",
       "      <td>B</td>\n",
       "      <td>C</td>\n",
       "      <td>B</td>\n",
       "      <td>C</td>\n",
       "      <td>C</td>\n",
       "    </tr>\n",
       "    <tr>\n",
       "      <th>2</th>\n",
       "      <td>2019-06-13</td>\n",
       "      <td>16:33:00</td>\n",
       "      <td>15</td>\n",
       "      <td>Mujer</td>\n",
       "      <td>Recoleta</td>\n",
       "      <td>B</td>\n",
       "      <td>B</td>\n",
       "      <td>C</td>\n",
       "      <td>B</td>\n",
       "      <td>C</td>\n",
       "      <td>B</td>\n",
       "      <td>B</td>\n",
       "      <td>A</td>\n",
       "      <td>A</td>\n",
       "      <td>A</td>\n",
       "      <td>A</td>\n",
       "      <td>A</td>\n",
       "      <td>A</td>\n",
       "    </tr>\n",
       "    <tr>\n",
       "      <th>3</th>\n",
       "      <td>2019-06-13</td>\n",
       "      <td>16:10:00</td>\n",
       "      <td>20</td>\n",
       "      <td>Mujer</td>\n",
       "      <td>Barracas</td>\n",
       "      <td>B</td>\n",
       "      <td>C</td>\n",
       "      <td>C</td>\n",
       "      <td>C</td>\n",
       "      <td>C</td>\n",
       "      <td>C</td>\n",
       "      <td>C</td>\n",
       "      <td>C</td>\n",
       "      <td>C</td>\n",
       "      <td>C</td>\n",
       "      <td>B</td>\n",
       "      <td>C</td>\n",
       "      <td>C</td>\n",
       "    </tr>\n",
       "    <tr>\n",
       "      <th>4</th>\n",
       "      <td>2019-06-13</td>\n",
       "      <td>14:29:00</td>\n",
       "      <td>39</td>\n",
       "      <td>Hombre</td>\n",
       "      <td>Almagro</td>\n",
       "      <td>B</td>\n",
       "      <td>C</td>\n",
       "      <td>B</td>\n",
       "      <td>B</td>\n",
       "      <td>C</td>\n",
       "      <td>C</td>\n",
       "      <td>B</td>\n",
       "      <td>C</td>\n",
       "      <td>B</td>\n",
       "      <td>C</td>\n",
       "      <td>C</td>\n",
       "      <td>B</td>\n",
       "      <td>C</td>\n",
       "    </tr>\n",
       "  </tbody>\n",
       "</table>\n",
       "</div>"
      ],
      "text/plain": [
       "        fecha      hora  edad  genero        barrio pregunta_1 pregunta_2  \\\n",
       "0  2019-06-14  09:09:00    27   Mujer  Constitución          A          A   \n",
       "1  2019-06-13  23:20:00    17   Mujer          Otro          A          B   \n",
       "2  2019-06-13  16:33:00    15   Mujer      Recoleta          B          B   \n",
       "3  2019-06-13  16:10:00    20   Mujer      Barracas          B          C   \n",
       "4  2019-06-13  14:29:00    39  Hombre       Almagro          B          C   \n",
       "\n",
       "  pregunta_3 pregunta_4 pregunta_5 pregunta_6 pregunta_7 pregunta_8  \\\n",
       "0          A          B          A          B          C          C   \n",
       "1          B          B          B          C          C          B   \n",
       "2          C          B          C          B          B          A   \n",
       "3          C          C          C          C          C          C   \n",
       "4          B          B          C          C          B          C   \n",
       "\n",
       "  pregunta_9 pregunta_10 pregunta_11 pregunta_12 pregunta_13  \n",
       "0          B           C           B           C           C  \n",
       "1          B           C           B           C           C  \n",
       "2          A           A           A           A           A  \n",
       "3          C           C           B           C           C  \n",
       "4          B           C           C           B           C  "
      ]
     },
     "execution_count": 3,
     "metadata": {},
     "output_type": "execute_result"
    }
   ],
   "source": [
    "df2 = pd.read_csv('resultados-del-test.csv')\n",
    "\n",
    "df2.head()"
   ]
  },
  {
   "cell_type": "code",
   "execution_count": 4,
   "metadata": {},
   "outputs": [],
   "source": [
    "# Igualar los nombres de columnas de ambos datasets\n",
    "df2 = df2.rename(columns = {'fecha':'FECHA',\n",
    "                            'hora':'HORA',\n",
    "                            'edad':'EDAD', \n",
    "                            'genero':'GENERO',\n",
    "                            'barrio':'BARRIO',\n",
    "                            'pregunta_1':'PREG_1',\n",
    "                            'pregunta_2':'PREG_2',\n",
    "                            'pregunta_3':'PREG_3',\n",
    "                            'pregunta_4':'PREG_4',\n",
    "                            'pregunta_5':'PREG_5',\n",
    "                            'pregunta_6':'PREG_6',\n",
    "                            'pregunta_7':'PREG_7',\n",
    "                            'pregunta_8':'PREG_8',\n",
    "                            'pregunta_9':'PREG_9',\n",
    "                            'pregunta_10':'PREG_10',\n",
    "                            'pregunta_11':'PREG_11',\n",
    "                            'pregunta_12':'PREG_12',\n",
    "                            'pregunta_13':'PREG_13',\n",
    "                           })\n",
    "\n"
   ]
  },
  {
   "cell_type": "code",
   "execution_count": 5,
   "metadata": {},
   "outputs": [
    {
     "data": {
      "text/html": [
       "<div>\n",
       "<style scoped>\n",
       "    .dataframe tbody tr th:only-of-type {\n",
       "        vertical-align: middle;\n",
       "    }\n",
       "\n",
       "    .dataframe tbody tr th {\n",
       "        vertical-align: top;\n",
       "    }\n",
       "\n",
       "    .dataframe thead th {\n",
       "        text-align: right;\n",
       "    }\n",
       "</style>\n",
       "<table border=\"1\" class=\"dataframe\">\n",
       "  <thead>\n",
       "    <tr style=\"text-align: right;\">\n",
       "      <th></th>\n",
       "      <th>FECHA</th>\n",
       "      <th>HORA</th>\n",
       "      <th>EDAD</th>\n",
       "      <th>GENERO</th>\n",
       "      <th>BARRIO</th>\n",
       "      <th>PREG_1</th>\n",
       "      <th>PREG_2</th>\n",
       "      <th>PREG_3</th>\n",
       "      <th>PREG_4</th>\n",
       "      <th>PREG_5</th>\n",
       "      <th>PREG_6</th>\n",
       "      <th>PREG_7</th>\n",
       "      <th>PREG_8</th>\n",
       "      <th>PREG_9</th>\n",
       "      <th>PREG_10</th>\n",
       "      <th>PREG_11</th>\n",
       "      <th>PREG_12</th>\n",
       "      <th>PREG_13</th>\n",
       "    </tr>\n",
       "  </thead>\n",
       "  <tbody>\n",
       "    <tr>\n",
       "      <th>0</th>\n",
       "      <td>13/02/2017</td>\n",
       "      <td>23:41</td>\n",
       "      <td>28</td>\n",
       "      <td>HOMBRE</td>\n",
       "      <td>PALERMO</td>\n",
       "      <td>B</td>\n",
       "      <td>B</td>\n",
       "      <td>B</td>\n",
       "      <td>B</td>\n",
       "      <td>B</td>\n",
       "      <td>B</td>\n",
       "      <td>B</td>\n",
       "      <td>B</td>\n",
       "      <td>B</td>\n",
       "      <td>B</td>\n",
       "      <td>NaN</td>\n",
       "      <td>NaN</td>\n",
       "      <td>NaN</td>\n",
       "    </tr>\n",
       "    <tr>\n",
       "      <th>1</th>\n",
       "      <td>13/02/2017</td>\n",
       "      <td>20:09</td>\n",
       "      <td>23</td>\n",
       "      <td>MUJER</td>\n",
       "      <td>BALVANERA</td>\n",
       "      <td>B</td>\n",
       "      <td>B</td>\n",
       "      <td>B</td>\n",
       "      <td>B</td>\n",
       "      <td>B</td>\n",
       "      <td>B</td>\n",
       "      <td>B</td>\n",
       "      <td>B</td>\n",
       "      <td>B</td>\n",
       "      <td>B</td>\n",
       "      <td>NaN</td>\n",
       "      <td>NaN</td>\n",
       "      <td>NaN</td>\n",
       "    </tr>\n",
       "    <tr>\n",
       "      <th>2</th>\n",
       "      <td>13/02/2017</td>\n",
       "      <td>20:07</td>\n",
       "      <td>22</td>\n",
       "      <td>MUJER</td>\n",
       "      <td>BALVANERA</td>\n",
       "      <td>A</td>\n",
       "      <td>A</td>\n",
       "      <td>A</td>\n",
       "      <td>A</td>\n",
       "      <td>A</td>\n",
       "      <td>A</td>\n",
       "      <td>A</td>\n",
       "      <td>A</td>\n",
       "      <td>B</td>\n",
       "      <td>C</td>\n",
       "      <td>NaN</td>\n",
       "      <td>NaN</td>\n",
       "      <td>NaN</td>\n",
       "    </tr>\n",
       "    <tr>\n",
       "      <th>3</th>\n",
       "      <td>13/02/2017</td>\n",
       "      <td>20:04</td>\n",
       "      <td>34</td>\n",
       "      <td>MUJER</td>\n",
       "      <td>VILLA PUEYRREDON</td>\n",
       "      <td>C</td>\n",
       "      <td>C</td>\n",
       "      <td>B</td>\n",
       "      <td>C</td>\n",
       "      <td>B</td>\n",
       "      <td>C</td>\n",
       "      <td>C</td>\n",
       "      <td>C</td>\n",
       "      <td>C</td>\n",
       "      <td>B</td>\n",
       "      <td>NaN</td>\n",
       "      <td>NaN</td>\n",
       "      <td>NaN</td>\n",
       "    </tr>\n",
       "    <tr>\n",
       "      <th>4</th>\n",
       "      <td>13/02/2017</td>\n",
       "      <td>19:34</td>\n",
       "      <td>31</td>\n",
       "      <td>MUJER</td>\n",
       "      <td>CABALLITO</td>\n",
       "      <td>C</td>\n",
       "      <td>C</td>\n",
       "      <td>C</td>\n",
       "      <td>C</td>\n",
       "      <td>C</td>\n",
       "      <td>C</td>\n",
       "      <td>C</td>\n",
       "      <td>C</td>\n",
       "      <td>C</td>\n",
       "      <td>C</td>\n",
       "      <td>NaN</td>\n",
       "      <td>NaN</td>\n",
       "      <td>NaN</td>\n",
       "    </tr>\n",
       "  </tbody>\n",
       "</table>\n",
       "</div>"
      ],
      "text/plain": [
       "        FECHA   HORA EDAD  GENERO            BARRIO PREG_1 PREG_2 PREG_3  \\\n",
       "0  13/02/2017  23:41   28  HOMBRE           PALERMO      B      B      B   \n",
       "1  13/02/2017  20:09   23   MUJER         BALVANERA      B      B      B   \n",
       "2  13/02/2017  20:07   22   MUJER         BALVANERA      A      A      A   \n",
       "3  13/02/2017  20:04   34   MUJER  VILLA PUEYRREDON      C      C      B   \n",
       "4  13/02/2017  19:34   31   MUJER         CABALLITO      C      C      C   \n",
       "\n",
       "  PREG_4 PREG_5 PREG_6 PREG_7 PREG_8 PREG_9 PREG_10 PREG_11 PREG_12 PREG_13  \n",
       "0      B      B      B      B      B      B       B     NaN     NaN     NaN  \n",
       "1      B      B      B      B      B      B       B     NaN     NaN     NaN  \n",
       "2      A      A      A      A      A      B       C     NaN     NaN     NaN  \n",
       "3      C      B      C      C      C      C       B     NaN     NaN     NaN  \n",
       "4      C      C      C      C      C      C       C     NaN     NaN     NaN  "
      ]
     },
     "execution_count": 5,
     "metadata": {},
     "output_type": "execute_result"
    }
   ],
   "source": [
    "# Unir ambos datasets \n",
    "\n",
    "df = df1.append(df2, ignore_index=True)\n",
    "\n",
    "df.head()"
   ]
  },
  {
   "cell_type": "code",
   "execution_count": 6,
   "metadata": {},
   "outputs": [
    {
     "data": {
      "text/plain": [
       "MUJER     8486\n",
       "Mujer     4736\n",
       "HOMBRE    3107\n",
       "Hombre     912\n",
       "OTRO        50\n",
       "Otro        28\n",
       "Name: GENERO, dtype: int64"
      ]
     },
     "execution_count": 6,
     "metadata": {},
     "output_type": "execute_result"
    }
   ],
   "source": [
    "# Igualar los datos\n",
    "\n",
    "df.GENERO.value_counts() # Hay valores en mayuscula y minúscula"
   ]
  },
  {
   "cell_type": "code",
   "execution_count": 7,
   "metadata": {},
   "outputs": [],
   "source": [
    "# Pasamos todo a formato titulo (primera letra mayuscula)\n",
    "\n",
    "df.GENERO = df.GENERO.str.title()\n",
    "df.BARRIO = df.BARRIO.str.title()\n"
   ]
  },
  {
   "cell_type": "code",
   "execution_count": 8,
   "metadata": {},
   "outputs": [],
   "source": [
    "df['PREG_1'].map({'C': 0, 'B':1, 'A':2})\n",
    "df['PREG_2'].map({'C': 0, 'B':1, 'A':2})\n",
    "df['PREG_17'] = df['PREG_1'] + df1['PREG_2']"
   ]
  },
  {
   "cell_type": "code",
   "execution_count": 9,
   "metadata": {},
   "outputs": [
    {
     "data": {
      "text/plain": [
       "Index(['FECHA', 'HORA', 'EDAD', 'GENERO', 'BARRIO', 'PREG_1', 'PREG_2',\n",
       "       'PREG_3', 'PREG_4', 'PREG_5', 'PREG_6', 'PREG_7', 'PREG_8', 'PREG_9',\n",
       "       'PREG_10', 'PREG_11', 'PREG_12', 'PREG_13', 'PREG_17'],\n",
       "      dtype='object')"
      ]
     },
     "execution_count": 9,
     "metadata": {},
     "output_type": "execute_result"
    }
   ],
   "source": [
    "df.columns"
   ]
  },
  {
   "cell_type": "code",
   "execution_count": 10,
   "metadata": {},
   "outputs": [],
   "source": [
    "# pd.get_dummies(df.BARRIO) # Hacer una columna por barrio"
   ]
  },
  {
   "cell_type": "code",
   "execution_count": 11,
   "metadata": {},
   "outputs": [
    {
     "data": {
      "text/html": [
       "<div>\n",
       "<style scoped>\n",
       "    .dataframe tbody tr th:only-of-type {\n",
       "        vertical-align: middle;\n",
       "    }\n",
       "\n",
       "    .dataframe tbody tr th {\n",
       "        vertical-align: top;\n",
       "    }\n",
       "\n",
       "    .dataframe thead th {\n",
       "        text-align: right;\n",
       "    }\n",
       "</style>\n",
       "<table border=\"1\" class=\"dataframe\">\n",
       "  <thead>\n",
       "    <tr style=\"text-align: right;\">\n",
       "      <th></th>\n",
       "      <th>FECHA</th>\n",
       "      <th>HORA</th>\n",
       "      <th>EDAD</th>\n",
       "      <th>GENERO</th>\n",
       "      <th>BARRIO</th>\n",
       "      <th>PREG_1</th>\n",
       "      <th>PREG_2</th>\n",
       "      <th>PREG_3</th>\n",
       "      <th>PREG_4</th>\n",
       "      <th>PREG_5</th>\n",
       "      <th>PREG_6</th>\n",
       "      <th>PREG_7</th>\n",
       "      <th>PREG_8</th>\n",
       "      <th>PREG_9</th>\n",
       "      <th>PREG_10</th>\n",
       "      <th>PREG_11</th>\n",
       "      <th>PREG_12</th>\n",
       "      <th>PREG_13</th>\n",
       "      <th>PREG_17</th>\n",
       "    </tr>\n",
       "  </thead>\n",
       "  <tbody>\n",
       "    <tr>\n",
       "      <th>0</th>\n",
       "      <td>13/02/2017</td>\n",
       "      <td>23:41</td>\n",
       "      <td>28</td>\n",
       "      <td>Hombre</td>\n",
       "      <td>Palermo</td>\n",
       "      <td>B</td>\n",
       "      <td>B</td>\n",
       "      <td>B</td>\n",
       "      <td>B</td>\n",
       "      <td>B</td>\n",
       "      <td>B</td>\n",
       "      <td>B</td>\n",
       "      <td>B</td>\n",
       "      <td>B</td>\n",
       "      <td>B</td>\n",
       "      <td>NaN</td>\n",
       "      <td>NaN</td>\n",
       "      <td>NaN</td>\n",
       "      <td>BB</td>\n",
       "    </tr>\n",
       "    <tr>\n",
       "      <th>1</th>\n",
       "      <td>13/02/2017</td>\n",
       "      <td>20:09</td>\n",
       "      <td>23</td>\n",
       "      <td>Mujer</td>\n",
       "      <td>Balvanera</td>\n",
       "      <td>B</td>\n",
       "      <td>B</td>\n",
       "      <td>B</td>\n",
       "      <td>B</td>\n",
       "      <td>B</td>\n",
       "      <td>B</td>\n",
       "      <td>B</td>\n",
       "      <td>B</td>\n",
       "      <td>B</td>\n",
       "      <td>B</td>\n",
       "      <td>NaN</td>\n",
       "      <td>NaN</td>\n",
       "      <td>NaN</td>\n",
       "      <td>BB</td>\n",
       "    </tr>\n",
       "    <tr>\n",
       "      <th>2</th>\n",
       "      <td>13/02/2017</td>\n",
       "      <td>20:07</td>\n",
       "      <td>22</td>\n",
       "      <td>Mujer</td>\n",
       "      <td>Balvanera</td>\n",
       "      <td>A</td>\n",
       "      <td>A</td>\n",
       "      <td>A</td>\n",
       "      <td>A</td>\n",
       "      <td>A</td>\n",
       "      <td>A</td>\n",
       "      <td>A</td>\n",
       "      <td>A</td>\n",
       "      <td>B</td>\n",
       "      <td>C</td>\n",
       "      <td>NaN</td>\n",
       "      <td>NaN</td>\n",
       "      <td>NaN</td>\n",
       "      <td>AA</td>\n",
       "    </tr>\n",
       "    <tr>\n",
       "      <th>3</th>\n",
       "      <td>13/02/2017</td>\n",
       "      <td>20:04</td>\n",
       "      <td>34</td>\n",
       "      <td>Mujer</td>\n",
       "      <td>Villa Pueyrredon</td>\n",
       "      <td>C</td>\n",
       "      <td>C</td>\n",
       "      <td>B</td>\n",
       "      <td>C</td>\n",
       "      <td>B</td>\n",
       "      <td>C</td>\n",
       "      <td>C</td>\n",
       "      <td>C</td>\n",
       "      <td>C</td>\n",
       "      <td>B</td>\n",
       "      <td>NaN</td>\n",
       "      <td>NaN</td>\n",
       "      <td>NaN</td>\n",
       "      <td>CC</td>\n",
       "    </tr>\n",
       "    <tr>\n",
       "      <th>4</th>\n",
       "      <td>13/02/2017</td>\n",
       "      <td>19:34</td>\n",
       "      <td>31</td>\n",
       "      <td>Mujer</td>\n",
       "      <td>Caballito</td>\n",
       "      <td>C</td>\n",
       "      <td>C</td>\n",
       "      <td>C</td>\n",
       "      <td>C</td>\n",
       "      <td>C</td>\n",
       "      <td>C</td>\n",
       "      <td>C</td>\n",
       "      <td>C</td>\n",
       "      <td>C</td>\n",
       "      <td>C</td>\n",
       "      <td>NaN</td>\n",
       "      <td>NaN</td>\n",
       "      <td>NaN</td>\n",
       "      <td>CC</td>\n",
       "    </tr>\n",
       "  </tbody>\n",
       "</table>\n",
       "</div>"
      ],
      "text/plain": [
       "        FECHA   HORA EDAD  GENERO            BARRIO PREG_1 PREG_2 PREG_3  \\\n",
       "0  13/02/2017  23:41   28  Hombre           Palermo      B      B      B   \n",
       "1  13/02/2017  20:09   23   Mujer         Balvanera      B      B      B   \n",
       "2  13/02/2017  20:07   22   Mujer         Balvanera      A      A      A   \n",
       "3  13/02/2017  20:04   34   Mujer  Villa Pueyrredon      C      C      B   \n",
       "4  13/02/2017  19:34   31   Mujer         Caballito      C      C      C   \n",
       "\n",
       "  PREG_4 PREG_5 PREG_6 PREG_7 PREG_8 PREG_9 PREG_10 PREG_11 PREG_12 PREG_13  \\\n",
       "0      B      B      B      B      B      B       B     NaN     NaN     NaN   \n",
       "1      B      B      B      B      B      B       B     NaN     NaN     NaN   \n",
       "2      A      A      A      A      A      B       C     NaN     NaN     NaN   \n",
       "3      C      B      C      C      C      C       B     NaN     NaN     NaN   \n",
       "4      C      C      C      C      C      C       C     NaN     NaN     NaN   \n",
       "\n",
       "  PREG_17  \n",
       "0      BB  \n",
       "1      BB  \n",
       "2      AA  \n",
       "3      CC  \n",
       "4      CC  "
      ]
     },
     "execution_count": 11,
     "metadata": {},
     "output_type": "execute_result"
    }
   ],
   "source": [
    "df.head()"
   ]
  },
  {
   "cell_type": "code",
   "execution_count": 12,
   "metadata": {},
   "outputs": [],
   "source": [
    "type(df['FECHA'])\n",
    "df['DATETIME'] = df['FECHA'] + ' ' + df['HORA']\n",
    "df['DATETIME'] = pd.to_datetime(df['DATETIME'])\n",
    "\n",
    "df.DATETIME\n",
    "df = df.set_index('DATETIME')"
   ]
  },
  {
   "cell_type": "markdown",
   "metadata": {},
   "source": [
    "# Plotting"
   ]
  },
  {
   "cell_type": "code",
   "execution_count": 13,
   "metadata": {},
   "outputs": [],
   "source": [
    "sns.set(rc={'figure.figsize':(11.7,8.27)})"
   ]
  },
  {
   "cell_type": "markdown",
   "metadata": {},
   "source": [
    "## Respuestas por género"
   ]
  },
  {
   "cell_type": "code",
   "execution_count": 14,
   "metadata": {},
   "outputs": [
    {
     "data": {
      "text/plain": [
       "<AxesSubplot:xlabel='GENERO', ylabel='count'>"
      ]
     },
     "execution_count": 14,
     "metadata": {},
     "output_type": "execute_result"
    },
    {
     "data": {
      "image/png": "[encoded data removed]",
      "text/plain": [
       "<Figure size 842.4x595.44 with 1 Axes>"
      ]
     },
     "metadata": {},
     "output_type": "display_data"
    }
   ],
   "source": [
    "sns.countplot(x=df.GENERO)"
   ]
  },
  {
   "cell_type": "markdown",
   "metadata": {},
   "source": [
    "## Respuestas por edad"
   ]
  },
  {
   "cell_type": "code",
   "execution_count": 33,
   "metadata": {},
   "outputs": [
    {
     "data": {
      "image/png": "[encoded data removed]",
      "text/plain": [
       "<Figure size 842.4x595.44 with 1 Axes>"
      ]
     },
     "metadata": {},
     "output_type": "display_data"
    }
   ],
   "source": [
    "df[df.EDAD == '<18'] = 17\n",
    "df.EDAD = df.EDAD.astype(int) \n",
    "g = sns.histplot(data=df, x=\"EDAD\", bins=5)"
   ]
  },
  {
   "cell_type": "markdown",
   "metadata": {},
   "source": [
    "## Respuestas en el tiempo"
   ]
  },
  {
   "cell_type": "code",
   "execution_count": 17,
   "metadata": {},
   "outputs": [],
   "source": [
    "casos_mensuales = df.EDAD.resample('1M').count() # Agrupar datos por mes"
   ]
  },
  {
   "cell_type": "code",
   "execution_count": 18,
   "metadata": {},
   "outputs": [
    {
     "data": {
      "image/png": "[encoded data removed]",
      "text/plain": [
       "<Figure size 842.4x595.44 with 1 Axes>"
      ]
     },
     "metadata": {},
     "output_type": "display_data"
    }
   ],
   "source": [
    "casos_mensuales.plot()\n",
    "\n",
    "plt.show() # cambiar label"
   ]
  },
  {
   "cell_type": "markdown",
   "metadata": {},
   "source": [
    "## Respuestas por barrio"
   ]
  },
  {
   "cell_type": "code",
   "execution_count": 19,
   "metadata": {},
   "outputs": [],
   "source": [
    "casos_por_barrio = df[['FECHA', 'BARRIO']].groupby('BARRIO').count()\n",
    "casos_por_barrio = casos_por_barrio.drop(['Otro', 'None'])"
   ]
  },
  {
   "cell_type": "code",
   "execution_count": 20,
   "metadata": {},
   "outputs": [
    {
     "data": {
      "image/png": "[encoded data removed]",
      "text/plain": [
       "<Figure size 842.4x595.44 with 1 Axes>"
      ]
     },
     "metadata": {},
     "output_type": "display_data"
    }
   ],
   "source": [
    "g = sns.countplot(x ='BARRIO', data = df)\n",
    "plt.xticks(rotation=90)\n",
    "plt.show()"
   ]
  },
  {
   "cell_type": "code",
   "execution_count": null,
   "metadata": {},
   "outputs": [],
   "source": []
  }
 ],
 "metadata": {
  "kernelspec": {
   "display_name": "Python 3",
   "language": "python",
   "name": "python3"
  },
  "language_info": {
   "codemirror_mode": {
    "name": "ipython",
    "version": 3
   },
   "file_extension": ".py",
   "mimetype": "text/x-python",
   "name": "python",
   "nbconvert_exporter": "python",
   "pygments_lexer": "ipython3",
   "version": "3.8.5"
  }
 },
 "nbformat": 4,
 "nbformat_minor": 4
}
